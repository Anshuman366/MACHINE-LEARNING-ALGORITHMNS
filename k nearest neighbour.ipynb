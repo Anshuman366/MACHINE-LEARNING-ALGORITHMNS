{
 "cells": [
  {
   "cell_type": "code",
   "execution_count": 84,
   "id": "41a0b36b",
   "metadata": {},
   "outputs": [],
   "source": [
    "import pandas as pd\n",
    "import numpy as np\n",
    "import seaborn as sns\n",
    "import matplotlib.pyplot as plt\n",
    "%matplotlib inline"
   ]
  },
  {
   "cell_type": "code",
   "execution_count": 85,
   "id": "b4eb46e3",
   "metadata": {},
   "outputs": [],
   "source": [
    "df=sns.load_dataset('iris')"
   ]
  },
  {
   "cell_type": "code",
   "execution_count": 86,
   "id": "b3707abf",
   "metadata": {},
   "outputs": [
    {
     "data": {
      "text/html": [
       "<div>\n",
       "<style scoped>\n",
       "    .dataframe tbody tr th:only-of-type {\n",
       "        vertical-align: middle;\n",
       "    }\n",
       "\n",
       "    .dataframe tbody tr th {\n",
       "        vertical-align: top;\n",
       "    }\n",
       "\n",
       "    .dataframe thead th {\n",
       "        text-align: right;\n",
       "    }\n",
       "</style>\n",
       "<table border=\"1\" class=\"dataframe\">\n",
       "  <thead>\n",
       "    <tr style=\"text-align: right;\">\n",
       "      <th></th>\n",
       "      <th>sepal_length</th>\n",
       "      <th>sepal_width</th>\n",
       "      <th>petal_length</th>\n",
       "      <th>petal_width</th>\n",
       "      <th>species</th>\n",
       "    </tr>\n",
       "  </thead>\n",
       "  <tbody>\n",
       "    <tr>\n",
       "      <th>0</th>\n",
       "      <td>5.1</td>\n",
       "      <td>3.5</td>\n",
       "      <td>1.4</td>\n",
       "      <td>0.2</td>\n",
       "      <td>setosa</td>\n",
       "    </tr>\n",
       "    <tr>\n",
       "      <th>1</th>\n",
       "      <td>4.9</td>\n",
       "      <td>3.0</td>\n",
       "      <td>1.4</td>\n",
       "      <td>0.2</td>\n",
       "      <td>setosa</td>\n",
       "    </tr>\n",
       "    <tr>\n",
       "      <th>2</th>\n",
       "      <td>4.7</td>\n",
       "      <td>3.2</td>\n",
       "      <td>1.3</td>\n",
       "      <td>0.2</td>\n",
       "      <td>setosa</td>\n",
       "    </tr>\n",
       "    <tr>\n",
       "      <th>3</th>\n",
       "      <td>4.6</td>\n",
       "      <td>3.1</td>\n",
       "      <td>1.5</td>\n",
       "      <td>0.2</td>\n",
       "      <td>setosa</td>\n",
       "    </tr>\n",
       "    <tr>\n",
       "      <th>4</th>\n",
       "      <td>5.0</td>\n",
       "      <td>3.6</td>\n",
       "      <td>1.4</td>\n",
       "      <td>0.2</td>\n",
       "      <td>setosa</td>\n",
       "    </tr>\n",
       "  </tbody>\n",
       "</table>\n",
       "</div>"
      ],
      "text/plain": [
       "   sepal_length  sepal_width  petal_length  petal_width species\n",
       "0           5.1          3.5           1.4          0.2  setosa\n",
       "1           4.9          3.0           1.4          0.2  setosa\n",
       "2           4.7          3.2           1.3          0.2  setosa\n",
       "3           4.6          3.1           1.5          0.2  setosa\n",
       "4           5.0          3.6           1.4          0.2  setosa"
      ]
     },
     "execution_count": 86,
     "metadata": {},
     "output_type": "execute_result"
    }
   ],
   "source": [
    "df.head()"
   ]
  },
  {
   "cell_type": "code",
   "execution_count": 87,
   "id": "a81f2f2b",
   "metadata": {},
   "outputs": [
    {
     "data": {
      "text/plain": [
       "setosa        50\n",
       "versicolor    50\n",
       "virginica     50\n",
       "Name: species, dtype: int64"
      ]
     },
     "execution_count": 87,
     "metadata": {},
     "output_type": "execute_result"
    }
   ],
   "source": [
    "df['species'].value_counts()"
   ]
  },
  {
   "cell_type": "code",
   "execution_count": 88,
   "id": "b9de3e75",
   "metadata": {},
   "outputs": [],
   "source": [
    "df['species']=df['species'].map({\"setosa\":0,\"versicolor\":1,\"virginica\":2})"
   ]
  },
  {
   "cell_type": "code",
   "execution_count": 89,
   "id": "56b5d14c",
   "metadata": {},
   "outputs": [
    {
     "data": {
      "text/html": [
       "<div>\n",
       "<style scoped>\n",
       "    .dataframe tbody tr th:only-of-type {\n",
       "        vertical-align: middle;\n",
       "    }\n",
       "\n",
       "    .dataframe tbody tr th {\n",
       "        vertical-align: top;\n",
       "    }\n",
       "\n",
       "    .dataframe thead th {\n",
       "        text-align: right;\n",
       "    }\n",
       "</style>\n",
       "<table border=\"1\" class=\"dataframe\">\n",
       "  <thead>\n",
       "    <tr style=\"text-align: right;\">\n",
       "      <th></th>\n",
       "      <th>sepal_length</th>\n",
       "      <th>sepal_width</th>\n",
       "      <th>petal_length</th>\n",
       "      <th>petal_width</th>\n",
       "      <th>species</th>\n",
       "    </tr>\n",
       "  </thead>\n",
       "  <tbody>\n",
       "    <tr>\n",
       "      <th>0</th>\n",
       "      <td>5.1</td>\n",
       "      <td>3.5</td>\n",
       "      <td>1.4</td>\n",
       "      <td>0.2</td>\n",
       "      <td>0</td>\n",
       "    </tr>\n",
       "    <tr>\n",
       "      <th>1</th>\n",
       "      <td>4.9</td>\n",
       "      <td>3.0</td>\n",
       "      <td>1.4</td>\n",
       "      <td>0.2</td>\n",
       "      <td>0</td>\n",
       "    </tr>\n",
       "    <tr>\n",
       "      <th>2</th>\n",
       "      <td>4.7</td>\n",
       "      <td>3.2</td>\n",
       "      <td>1.3</td>\n",
       "      <td>0.2</td>\n",
       "      <td>0</td>\n",
       "    </tr>\n",
       "    <tr>\n",
       "      <th>3</th>\n",
       "      <td>4.6</td>\n",
       "      <td>3.1</td>\n",
       "      <td>1.5</td>\n",
       "      <td>0.2</td>\n",
       "      <td>0</td>\n",
       "    </tr>\n",
       "    <tr>\n",
       "      <th>4</th>\n",
       "      <td>5.0</td>\n",
       "      <td>3.6</td>\n",
       "      <td>1.4</td>\n",
       "      <td>0.2</td>\n",
       "      <td>0</td>\n",
       "    </tr>\n",
       "    <tr>\n",
       "      <th>...</th>\n",
       "      <td>...</td>\n",
       "      <td>...</td>\n",
       "      <td>...</td>\n",
       "      <td>...</td>\n",
       "      <td>...</td>\n",
       "    </tr>\n",
       "    <tr>\n",
       "      <th>145</th>\n",
       "      <td>6.7</td>\n",
       "      <td>3.0</td>\n",
       "      <td>5.2</td>\n",
       "      <td>2.3</td>\n",
       "      <td>2</td>\n",
       "    </tr>\n",
       "    <tr>\n",
       "      <th>146</th>\n",
       "      <td>6.3</td>\n",
       "      <td>2.5</td>\n",
       "      <td>5.0</td>\n",
       "      <td>1.9</td>\n",
       "      <td>2</td>\n",
       "    </tr>\n",
       "    <tr>\n",
       "      <th>147</th>\n",
       "      <td>6.5</td>\n",
       "      <td>3.0</td>\n",
       "      <td>5.2</td>\n",
       "      <td>2.0</td>\n",
       "      <td>2</td>\n",
       "    </tr>\n",
       "    <tr>\n",
       "      <th>148</th>\n",
       "      <td>6.2</td>\n",
       "      <td>3.4</td>\n",
       "      <td>5.4</td>\n",
       "      <td>2.3</td>\n",
       "      <td>2</td>\n",
       "    </tr>\n",
       "    <tr>\n",
       "      <th>149</th>\n",
       "      <td>5.9</td>\n",
       "      <td>3.0</td>\n",
       "      <td>5.1</td>\n",
       "      <td>1.8</td>\n",
       "      <td>2</td>\n",
       "    </tr>\n",
       "  </tbody>\n",
       "</table>\n",
       "<p>150 rows × 5 columns</p>\n",
       "</div>"
      ],
      "text/plain": [
       "     sepal_length  sepal_width  petal_length  petal_width  species\n",
       "0             5.1          3.5           1.4          0.2        0\n",
       "1             4.9          3.0           1.4          0.2        0\n",
       "2             4.7          3.2           1.3          0.2        0\n",
       "3             4.6          3.1           1.5          0.2        0\n",
       "4             5.0          3.6           1.4          0.2        0\n",
       "..            ...          ...           ...          ...      ...\n",
       "145           6.7          3.0           5.2          2.3        2\n",
       "146           6.3          2.5           5.0          1.9        2\n",
       "147           6.5          3.0           5.2          2.0        2\n",
       "148           6.2          3.4           5.4          2.3        2\n",
       "149           5.9          3.0           5.1          1.8        2\n",
       "\n",
       "[150 rows x 5 columns]"
      ]
     },
     "execution_count": 89,
     "metadata": {},
     "output_type": "execute_result"
    }
   ],
   "source": [
    "df"
   ]
  },
  {
   "cell_type": "code",
   "execution_count": 90,
   "id": "af52664c",
   "metadata": {},
   "outputs": [
    {
     "data": {
      "text/plain": [
       "(150, 4)"
      ]
     },
     "execution_count": 90,
     "metadata": {},
     "output_type": "execute_result"
    }
   ],
   "source": [
    "X=df.iloc[:,:-1]\n",
    "y=df['species']\n",
    "X.shape"
   ]
  },
  {
   "cell_type": "code",
   "execution_count": 91,
   "id": "778d7673",
   "metadata": {},
   "outputs": [],
   "source": [
    "from sklearn.model_selection import train_test_split\n",
    "X_train, X_test, y_train, y_test = train_test_split(X, y, test_size=0.33, random_state=42)"
   ]
  },
  {
   "cell_type": "code",
   "execution_count": 92,
   "id": "003b37e9",
   "metadata": {},
   "outputs": [
    {
     "data": {
      "text/html": [
       "<style>#sk-container-id-4 {color: black;background-color: white;}#sk-container-id-4 pre{padding: 0;}#sk-container-id-4 div.sk-toggleable {background-color: white;}#sk-container-id-4 label.sk-toggleable__label {cursor: pointer;display: block;width: 100%;margin-bottom: 0;padding: 0.3em;box-sizing: border-box;text-align: center;}#sk-container-id-4 label.sk-toggleable__label-arrow:before {content: \"▸\";float: left;margin-right: 0.25em;color: #696969;}#sk-container-id-4 label.sk-toggleable__label-arrow:hover:before {color: black;}#sk-container-id-4 div.sk-estimator:hover label.sk-toggleable__label-arrow:before {color: black;}#sk-container-id-4 div.sk-toggleable__content {max-height: 0;max-width: 0;overflow: hidden;text-align: left;background-color: #f0f8ff;}#sk-container-id-4 div.sk-toggleable__content pre {margin: 0.2em;color: black;border-radius: 0.25em;background-color: #f0f8ff;}#sk-container-id-4 input.sk-toggleable__control:checked~div.sk-toggleable__content {max-height: 200px;max-width: 100%;overflow: auto;}#sk-container-id-4 input.sk-toggleable__control:checked~label.sk-toggleable__label-arrow:before {content: \"▾\";}#sk-container-id-4 div.sk-estimator input.sk-toggleable__control:checked~label.sk-toggleable__label {background-color: #d4ebff;}#sk-container-id-4 div.sk-label input.sk-toggleable__control:checked~label.sk-toggleable__label {background-color: #d4ebff;}#sk-container-id-4 input.sk-hidden--visually {border: 0;clip: rect(1px 1px 1px 1px);clip: rect(1px, 1px, 1px, 1px);height: 1px;margin: -1px;overflow: hidden;padding: 0;position: absolute;width: 1px;}#sk-container-id-4 div.sk-estimator {font-family: monospace;background-color: #f0f8ff;border: 1px dotted black;border-radius: 0.25em;box-sizing: border-box;margin-bottom: 0.5em;}#sk-container-id-4 div.sk-estimator:hover {background-color: #d4ebff;}#sk-container-id-4 div.sk-parallel-item::after {content: \"\";width: 100%;border-bottom: 1px solid gray;flex-grow: 1;}#sk-container-id-4 div.sk-label:hover label.sk-toggleable__label {background-color: #d4ebff;}#sk-container-id-4 div.sk-serial::before {content: \"\";position: absolute;border-left: 1px solid gray;box-sizing: border-box;top: 0;bottom: 0;left: 50%;z-index: 0;}#sk-container-id-4 div.sk-serial {display: flex;flex-direction: column;align-items: center;background-color: white;padding-right: 0.2em;padding-left: 0.2em;position: relative;}#sk-container-id-4 div.sk-item {position: relative;z-index: 1;}#sk-container-id-4 div.sk-parallel {display: flex;align-items: stretch;justify-content: center;background-color: white;position: relative;}#sk-container-id-4 div.sk-item::before, #sk-container-id-4 div.sk-parallel-item::before {content: \"\";position: absolute;border-left: 1px solid gray;box-sizing: border-box;top: 0;bottom: 0;left: 50%;z-index: -1;}#sk-container-id-4 div.sk-parallel-item {display: flex;flex-direction: column;z-index: 1;position: relative;background-color: white;}#sk-container-id-4 div.sk-parallel-item:first-child::after {align-self: flex-end;width: 50%;}#sk-container-id-4 div.sk-parallel-item:last-child::after {align-self: flex-start;width: 50%;}#sk-container-id-4 div.sk-parallel-item:only-child::after {width: 0;}#sk-container-id-4 div.sk-dashed-wrapped {border: 1px dashed gray;margin: 0 0.4em 0.5em 0.4em;box-sizing: border-box;padding-bottom: 0.4em;background-color: white;}#sk-container-id-4 div.sk-label label {font-family: monospace;font-weight: bold;display: inline-block;line-height: 1.2em;}#sk-container-id-4 div.sk-label-container {text-align: center;}#sk-container-id-4 div.sk-container {/* jupyter's `normalize.less` sets `[hidden] { display: none; }` but bootstrap.min.css set `[hidden] { display: none !important; }` so we also need the `!important` here to be able to override the default hidden behavior on the sphinx rendered scikit-learn.org. See: https://github.com/scikit-learn/scikit-learn/issues/21755 */display: inline-block !important;position: relative;}#sk-container-id-4 div.sk-text-repr-fallback {display: none;}</style><div id=\"sk-container-id-4\" class=\"sk-top-container\"><div class=\"sk-text-repr-fallback\"><pre>KNeighborsClassifier(n_neighbors=4)</pre><b>In a Jupyter environment, please rerun this cell to show the HTML representation or trust the notebook. <br />On GitHub, the HTML representation is unable to render, please try loading this page with nbviewer.org.</b></div><div class=\"sk-container\" hidden><div class=\"sk-item\"><div class=\"sk-estimator sk-toggleable\"><input class=\"sk-toggleable__control sk-hidden--visually\" id=\"sk-estimator-id-4\" type=\"checkbox\" checked><label for=\"sk-estimator-id-4\" class=\"sk-toggleable__label sk-toggleable__label-arrow\">KNeighborsClassifier</label><div class=\"sk-toggleable__content\"><pre>KNeighborsClassifier(n_neighbors=4)</pre></div></div></div></div></div>"
      ],
      "text/plain": [
       "KNeighborsClassifier(n_neighbors=4)"
      ]
     },
     "execution_count": 92,
     "metadata": {},
     "output_type": "execute_result"
    }
   ],
   "source": [
    "from sklearn.neighbors import KNeighborsClassifier\n",
    "knn=KNeighborsClassifier(n_neighbors=4)\n",
    "knn.fit(X_train,y_train)"
   ]
  },
  {
   "cell_type": "code",
   "execution_count": 93,
   "id": "77602ef5",
   "metadata": {},
   "outputs": [],
   "source": [
    "y_pred=knn.predict(X_test)"
   ]
  },
  {
   "cell_type": "code",
   "execution_count": 94,
   "id": "bdddb509",
   "metadata": {},
   "outputs": [],
   "source": [
    "from sklearn.metrics import accuracy_score,confusion_matrix,precision_recall_curve,f1_score"
   ]
  },
  {
   "cell_type": "code",
   "execution_count": 95,
   "id": "3d8c7377",
   "metadata": {},
   "outputs": [
    {
     "data": {
      "text/plain": [
       "98.0"
      ]
     },
     "execution_count": 95,
     "metadata": {},
     "output_type": "execute_result"
    }
   ],
   "source": [
    "accuracy_score(y_test,y_pred)*100"
   ]
  },
  {
   "cell_type": "code",
   "execution_count": 96,
   "id": "e8390817",
   "metadata": {},
   "outputs": [],
   "source": [
    "acc=[]\n",
    "def knn_new():\n",
    "    x1=float(input(\"please enter sepal_length \"))\n",
    "    x2=float(input(\"please enter sepal_width \"))\n",
    "    x3=float(input(\"please enter petal_length \"))\n",
    "    x4=float(input(\"please enter petal_width \"))\n",
    "    \n",
    "    X=np.array([x1,x2,x3,x4]).reshape(1,4) # we have to reshape our input variable because our dataset is in the shape of the (row,4)\n",
    "    pred=knn.predict(X)\n",
    "    return pred[0]"
   ]
  },
  {
   "cell_type": "code",
   "execution_count": 98,
   "id": "3ab5dea4",
   "metadata": {},
   "outputs": [
    {
     "name": "stdout",
     "output_type": "stream",
     "text": [
      "please enter sepal_length 5.1\n",
      "please enter sepal_width 3.5\n",
      "please enter petal_length 1.4\n",
      "please enter petal_width 0.2\n"
     ]
    },
    {
     "name": "stderr",
     "output_type": "stream",
     "text": [
      "C:\\Users\\prana\\anaconda3\\lib\\site-packages\\sklearn\\base.py:450: UserWarning: X does not have valid feature names, but KNeighborsClassifier was fitted with feature names\n",
      "  warnings.warn(\n"
     ]
    },
    {
     "data": {
      "text/plain": [
       "0"
      ]
     },
     "execution_count": 98,
     "metadata": {},
     "output_type": "execute_result"
    }
   ],
   "source": [
    "knn_new()"
   ]
  },
  {
   "cell_type": "code",
   "execution_count": 99,
   "id": "097347e2",
   "metadata": {},
   "outputs": [
    {
     "data": {
      "text/plain": [
       "(1, 4)"
      ]
     },
     "execution_count": 99,
     "metadata": {},
     "output_type": "execute_result"
    }
   ],
   "source": [
    "np.array([[5.1, 3.5, 1.4, 0.2]]).shape"
   ]
  },
  {
   "cell_type": "code",
   "execution_count": 100,
   "id": "c9321055",
   "metadata": {},
   "outputs": [],
   "source": [
    "acc_lst=[]\n",
    "for i in range(1,26):\n",
    "    knn=KNeighborsClassifier(n_neighbors=i)\n",
    "    knn.fit(X_train,y_train)\n",
    "    knn.predict(X_test)\n",
    "    acc=accuracy_score(y_test,y_pred)\n",
    "    acc_lst.append(acc)"
   ]
  },
  {
   "cell_type": "code",
   "execution_count": 101,
   "id": "b953451a",
   "metadata": {},
   "outputs": [
    {
     "data": {
      "text/plain": [
       "[0.98,\n",
       " 0.98,\n",
       " 0.98,\n",
       " 0.98,\n",
       " 0.98,\n",
       " 0.98,\n",
       " 0.98,\n",
       " 0.98,\n",
       " 0.98,\n",
       " 0.98,\n",
       " 0.98,\n",
       " 0.98,\n",
       " 0.98,\n",
       " 0.98,\n",
       " 0.98,\n",
       " 0.98,\n",
       " 0.98,\n",
       " 0.98,\n",
       " 0.98,\n",
       " 0.98,\n",
       " 0.98,\n",
       " 0.98,\n",
       " 0.98,\n",
       " 0.98,\n",
       " 0.98]"
      ]
     },
     "execution_count": 101,
     "metadata": {},
     "output_type": "execute_result"
    }
   ],
   "source": [
    "acc_lst"
   ]
  },
  {
   "cell_type": "markdown",
   "id": "f1103abe",
   "metadata": {},
   "source": [
    "# Decision Boundry for knn"
   ]
  },
  {
   "cell_type": "markdown",
   "id": "28de688e",
   "metadata": {},
   "source": [
    "\n",
    "\n",
    "### step 1: create a meshgrid: meshgrid is a function which will generate every possible combination of (x,y) out of the x and y "
   ]
  },
  {
   "cell_type": "code",
   "execution_count": 107,
   "id": "658ef227",
   "metadata": {},
   "outputs": [],
   "source": [
    "x=np.array([1,2,3])\n",
    "y=np.array([4,5,6,7])\n",
    "xx,yy=np.meshgrid(x,y)"
   ]
  },
  {
   "cell_type": "code",
   "execution_count": 110,
   "id": "37080b9e",
   "metadata": {},
   "outputs": [
    {
     "data": {
      "text/plain": [
       "array([[1, 2, 3],\n",
       "       [1, 2, 3],\n",
       "       [1, 2, 3],\n",
       "       [1, 2, 3]])"
      ]
     },
     "execution_count": 110,
     "metadata": {},
     "output_type": "execute_result"
    }
   ],
   "source": [
    "xx"
   ]
  },
  {
   "cell_type": "code",
   "execution_count": 111,
   "id": "93295a81",
   "metadata": {},
   "outputs": [
    {
     "data": {
      "text/plain": [
       "array([[4, 4, 4],\n",
       "       [5, 5, 5],\n",
       "       [6, 6, 6],\n",
       "       [7, 7, 7]])"
      ]
     },
     "execution_count": 111,
     "metadata": {},
     "output_type": "execute_result"
    }
   ],
   "source": [
    "yy"
   ]
  },
  {
   "cell_type": "markdown",
   "id": "bdcb7871",
   "metadata": {},
   "source": [
    "##### Ques: what is the purpose of meshgrid\n",
    "    \n",
    "    meshgrid is very useful to evaluate fiunction on thr grid, we can apply \n",
    "    any function to the point of meshgrid to plot a graph\n",
    "    \n",
    "    basically we will generste grid out of every possible combination of x,y and then we will \n",
    "    map any function to it to plot a graph.... see below example"
   ]
  },
  {
   "cell_type": "code",
   "execution_count": 137,
   "id": "2db137cc",
   "metadata": {},
   "outputs": [],
   "source": [
    "x=np.linspace(-40,40,100)\n",
    "y=np.linspace(-50,50,90)\n",
    "xx,yy=np.meshgrid(x,y)\n",
    "\n",
    "z=xx**2+yy**2 \n"
   ]
  },
  {
   "cell_type": "code",
   "execution_count": 139,
   "id": "30be6c22",
   "metadata": {},
   "outputs": [
    {
     "data": {
      "text/plain": [
       "<matplotlib.contour.QuadContourSet at 0x2ac46696ac0>"
      ]
     },
     "execution_count": 139,
     "metadata": {},
     "output_type": "execute_result"
    },
    {
     "data": {
      "image/png": "[encoded data removed]",
      "text/plain": [
       "<Figure size 432x288 with 1 Axes>"
      ]
     },
     "metadata": {
      "needs_background": "light"
     },
     "output_type": "display_data"
    }
   ],
   "source": [
    "plt.contourf(xx,yy,z)"
   ]
  },
  {
   "cell_type": "code",
   "execution_count": 144,
   "id": "45213527",
   "metadata": {},
   "outputs": [
    {
     "data": {
      "text/plain": [
       "<matplotlib.contour.QuadContourSet at 0x2ac4ca311f0>"
      ]
     },
     "execution_count": 144,
     "metadata": {},
     "output_type": "execute_result"
    },
    {
     "data": {
      "image/png": "[encoded data removed]",
      "text/plain": [
       "<Figure size 432x288 with 1 Axes>"
      ]
     },
     "metadata": {
      "needs_background": "light"
     },
     "output_type": "display_data"
    }
   ],
   "source": [
    "z=np.random.random((90,100)) # THE SHAPE OF THE MAPPING FUNCTION VALUE MUST BE EQUAL TO THE xx and yy\n",
    "plt.contourf(xx,yy,z)"
   ]
  },
  {
   "cell_type": "code",
   "execution_count": 145,
   "id": "75f533e2",
   "metadata": {},
   "outputs": [],
   "source": [
    "### creating meshgrid for our knn classifier"
   ]
  },
  {
   "cell_type": "code",
   "execution_count": 157,
   "id": "601244ba",
   "metadata": {},
   "outputs": [],
   "source": [
    "# Taking only 2 feature just to make 2d graph\n",
    "X=df.iloc[:,:2]\n",
    "y=df['species']\n",
    "X_train, X_test, y_train, y_test = train_test_split(X, y, test_size=0.33, random_state=42)"
   ]
  },
  {
   "cell_type": "code",
   "execution_count": 158,
   "id": "9d894f07",
   "metadata": {},
   "outputs": [],
   "source": [
    "# just converting the dataframe into the array\n",
    "X_train=np.array(X_train)\n",
    "y_train=np.array(y_train)"
   ]
  },
  {
   "cell_type": "code",
   "execution_count": 159,
   "id": "721a7586",
   "metadata": {},
   "outputs": [
    {
     "data": {
      "text/plain": [
       "array([[5.7, 2.9],\n",
       "       [7.6, 3. ],\n",
       "       [5.6, 3. ],\n",
       "       [5.1, 3.5],\n",
       "       [7.7, 2.8],\n",
       "       [5.8, 2.7],\n",
       "       [5.2, 3.4],\n",
       "       [5. , 3.5],\n",
       "       [5.1, 3.8],\n",
       "       [5. , 2. ],\n",
       "       [6.3, 2.7],\n",
       "       [4.8, 3.4],\n",
       "       [5. , 3. ],\n",
       "       [5.1, 3.3],\n",
       "       [5.6, 2.7],\n",
       "       [5.1, 3.4],\n",
       "       [5.7, 3. ],\n",
       "       [7.7, 3.8],\n",
       "       [4.6, 3.2],\n",
       "       [6.2, 2.9],\n",
       "       [5.7, 2.5],\n",
       "       [5.5, 4.2],\n",
       "       [6. , 3. ],\n",
       "       [5.8, 2.7],\n",
       "       [6. , 2.2],\n",
       "       [5.4, 3. ],\n",
       "       [6.2, 3.4],\n",
       "       [5.5, 2.3],\n",
       "       [5.4, 3.9],\n",
       "       [5. , 2.3],\n",
       "       [6.4, 2.7],\n",
       "       [5. , 3.3],\n",
       "       [5. , 3.2],\n",
       "       [5.5, 2.4],\n",
       "       [6.7, 3. ],\n",
       "       [4.9, 3.1],\n",
       "       [5.8, 2.8],\n",
       "       [5. , 3.4],\n",
       "       [5. , 3.5],\n",
       "       [5.9, 3.2],\n",
       "       [5.1, 2.5],\n",
       "       [6.9, 3.2],\n",
       "       [6. , 2.7],\n",
       "       [6.1, 2.6],\n",
       "       [7.7, 3. ],\n",
       "       [5.5, 2.5],\n",
       "       [4.4, 2.9],\n",
       "       [4.3, 3. ],\n",
       "       [6. , 2.2],\n",
       "       [7.2, 3.2],\n",
       "       [4.6, 3.1],\n",
       "       [5.1, 3.5],\n",
       "       [4.4, 3. ],\n",
       "       [6.3, 2.5],\n",
       "       [6.3, 3.4],\n",
       "       [4.6, 3.4],\n",
       "       [6.8, 3. ],\n",
       "       [6.3, 3.3],\n",
       "       [4.7, 3.2],\n",
       "       [6.1, 2.9],\n",
       "       [6.5, 2.8],\n",
       "       [6.2, 2.8],\n",
       "       [7. , 3.2],\n",
       "       [6.4, 3.2],\n",
       "       [5.1, 3.8],\n",
       "       [6.9, 3.1],\n",
       "       [5.9, 3. ],\n",
       "       [6.5, 3. ],\n",
       "       [5.7, 2.6],\n",
       "       [5.2, 2.7],\n",
       "       [6.1, 3. ],\n",
       "       [4.5, 2.3],\n",
       "       [6.6, 2.9],\n",
       "       [5.5, 2.6],\n",
       "       [5.3, 3.7],\n",
       "       [5.6, 3. ],\n",
       "       [7.3, 2.9],\n",
       "       [6.7, 3.3],\n",
       "       [5.1, 3.7],\n",
       "       [4.9, 2.4],\n",
       "       [6.7, 3.3],\n",
       "       [7.2, 3. ],\n",
       "       [4.9, 3.6],\n",
       "       [6.7, 3.1],\n",
       "       [4.9, 3. ],\n",
       "       [6.9, 3.1],\n",
       "       [7.4, 2.8],\n",
       "       [6.3, 2.9],\n",
       "       [5.7, 2.8],\n",
       "       [6.5, 3. ],\n",
       "       [6.3, 2.3],\n",
       "       [6.4, 2.9],\n",
       "       [5.6, 2.8],\n",
       "       [5.9, 3. ],\n",
       "       [5.4, 3.4],\n",
       "       [6.1, 2.8],\n",
       "       [4.9, 2.5],\n",
       "       [5.8, 4. ],\n",
       "       [5.8, 2.6],\n",
       "       [7.1, 3. ]])"
      ]
     },
     "execution_count": 159,
     "metadata": {},
     "output_type": "execute_result"
    }
   ],
   "source": [
    "X_train"
   ]
  },
  {
   "cell_type": "code",
   "execution_count": 163,
   "id": "f80abc1e",
   "metadata": {},
   "outputs": [],
   "source": [
    "## here we are defining x and y axis\n",
    "a=np.arange(X_train[:,0].min()-1,X_train[:,0].max()+1,step=0.01)\n",
    "b=np.arange(X_train[:,1].min()-1,X_train[:,1].max()+1,step=0.01)"
   ]
  },
  {
   "cell_type": "code",
   "execution_count": 176,
   "id": "7e5f7cc0",
   "metadata": {},
   "outputs": [
    {
     "data": {
      "text/plain": [
       "array([[1.  , 1.  , 1.  , ..., 1.  , 1.  , 1.  ],\n",
       "       [1.01, 1.01, 1.01, ..., 1.01, 1.01, 1.01],\n",
       "       [1.02, 1.02, 1.02, ..., 1.02, 1.02, 1.02],\n",
       "       ...,\n",
       "       [5.17, 5.17, 5.17, ..., 5.17, 5.17, 5.17],\n",
       "       [5.18, 5.18, 5.18, ..., 5.18, 5.18, 5.18],\n",
       "       [5.19, 5.19, 5.19, ..., 5.19, 5.19, 5.19]])"
      ]
     },
     "execution_count": 176,
     "metadata": {},
     "output_type": "execute_result"
    }
   ],
   "source": [
    "xx,yy=np.meshgrid(a,b)"
   ]
  },
  {
   "cell_type": "code",
   "execution_count": 169,
   "id": "6ae8595e",
   "metadata": {},
   "outputs": [
    {
     "data": {
      "text/plain": [
       "(420, 540)"
      ]
     },
     "execution_count": 169,
     "metadata": {},
     "output_type": "execute_result"
    }
   ],
   "source": [
    "xx.shape"
   ]
  },
  {
   "cell_type": "code",
   "execution_count": 170,
   "id": "1c029b25",
   "metadata": {},
   "outputs": [
    {
     "data": {
      "text/plain": [
       "(420, 540)"
      ]
     },
     "execution_count": 170,
     "metadata": {},
     "output_type": "execute_result"
    }
   ],
   "source": [
    "yy.shape"
   ]
  },
  {
   "cell_type": "code",
   "execution_count": 177,
   "id": "c6ede84b",
   "metadata": {},
   "outputs": [
    {
     "name": "stdout",
     "output_type": "stream",
     "text": [
      "3.3\n",
      "1.0\n"
     ]
    }
   ],
   "source": [
    "print(xx[0][0])\n",
    "print(yy[0][0])"
   ]
  },
  {
   "cell_type": "code",
   "execution_count": 180,
   "id": "be48fabb",
   "metadata": {},
   "outputs": [
    {
     "data": {
      "text/html": [
       "<style>#sk-container-id-5 {color: black;background-color: white;}#sk-container-id-5 pre{padding: 0;}#sk-container-id-5 div.sk-toggleable {background-color: white;}#sk-container-id-5 label.sk-toggleable__label {cursor: pointer;display: block;width: 100%;margin-bottom: 0;padding: 0.3em;box-sizing: border-box;text-align: center;}#sk-container-id-5 label.sk-toggleable__label-arrow:before {content: \"▸\";float: left;margin-right: 0.25em;color: #696969;}#sk-container-id-5 label.sk-toggleable__label-arrow:hover:before {color: black;}#sk-container-id-5 div.sk-estimator:hover label.sk-toggleable__label-arrow:before {color: black;}#sk-container-id-5 div.sk-toggleable__content {max-height: 0;max-width: 0;overflow: hidden;text-align: left;background-color: #f0f8ff;}#sk-container-id-5 div.sk-toggleable__content pre {margin: 0.2em;color: black;border-radius: 0.25em;background-color: #f0f8ff;}#sk-container-id-5 input.sk-toggleable__control:checked~div.sk-toggleable__content {max-height: 200px;max-width: 100%;overflow: auto;}#sk-container-id-5 input.sk-toggleable__control:checked~label.sk-toggleable__label-arrow:before {content: \"▾\";}#sk-container-id-5 div.sk-estimator input.sk-toggleable__control:checked~label.sk-toggleable__label {background-color: #d4ebff;}#sk-container-id-5 div.sk-label input.sk-toggleable__control:checked~label.sk-toggleable__label {background-color: #d4ebff;}#sk-container-id-5 input.sk-hidden--visually {border: 0;clip: rect(1px 1px 1px 1px);clip: rect(1px, 1px, 1px, 1px);height: 1px;margin: -1px;overflow: hidden;padding: 0;position: absolute;width: 1px;}#sk-container-id-5 div.sk-estimator {font-family: monospace;background-color: #f0f8ff;border: 1px dotted black;border-radius: 0.25em;box-sizing: border-box;margin-bottom: 0.5em;}#sk-container-id-5 div.sk-estimator:hover {background-color: #d4ebff;}#sk-container-id-5 div.sk-parallel-item::after {content: \"\";width: 100%;border-bottom: 1px solid gray;flex-grow: 1;}#sk-container-id-5 div.sk-label:hover label.sk-toggleable__label {background-color: #d4ebff;}#sk-container-id-5 div.sk-serial::before {content: \"\";position: absolute;border-left: 1px solid gray;box-sizing: border-box;top: 0;bottom: 0;left: 50%;z-index: 0;}#sk-container-id-5 div.sk-serial {display: flex;flex-direction: column;align-items: center;background-color: white;padding-right: 0.2em;padding-left: 0.2em;position: relative;}#sk-container-id-5 div.sk-item {position: relative;z-index: 1;}#sk-container-id-5 div.sk-parallel {display: flex;align-items: stretch;justify-content: center;background-color: white;position: relative;}#sk-container-id-5 div.sk-item::before, #sk-container-id-5 div.sk-parallel-item::before {content: \"\";position: absolute;border-left: 1px solid gray;box-sizing: border-box;top: 0;bottom: 0;left: 50%;z-index: -1;}#sk-container-id-5 div.sk-parallel-item {display: flex;flex-direction: column;z-index: 1;position: relative;background-color: white;}#sk-container-id-5 div.sk-parallel-item:first-child::after {align-self: flex-end;width: 50%;}#sk-container-id-5 div.sk-parallel-item:last-child::after {align-self: flex-start;width: 50%;}#sk-container-id-5 div.sk-parallel-item:only-child::after {width: 0;}#sk-container-id-5 div.sk-dashed-wrapped {border: 1px dashed gray;margin: 0 0.4em 0.5em 0.4em;box-sizing: border-box;padding-bottom: 0.4em;background-color: white;}#sk-container-id-5 div.sk-label label {font-family: monospace;font-weight: bold;display: inline-block;line-height: 1.2em;}#sk-container-id-5 div.sk-label-container {text-align: center;}#sk-container-id-5 div.sk-container {/* jupyter's `normalize.less` sets `[hidden] { display: none; }` but bootstrap.min.css set `[hidden] { display: none !important; }` so we also need the `!important` here to be able to override the default hidden behavior on the sphinx rendered scikit-learn.org. See: https://github.com/scikit-learn/scikit-learn/issues/21755 */display: inline-block !important;position: relative;}#sk-container-id-5 div.sk-text-repr-fallback {display: none;}</style><div id=\"sk-container-id-5\" class=\"sk-top-container\"><div class=\"sk-text-repr-fallback\"><pre>KNeighborsClassifier()</pre><b>In a Jupyter environment, please rerun this cell to show the HTML representation or trust the notebook. <br />On GitHub, the HTML representation is unable to render, please try loading this page with nbviewer.org.</b></div><div class=\"sk-container\" hidden><div class=\"sk-item\"><div class=\"sk-estimator sk-toggleable\"><input class=\"sk-toggleable__control sk-hidden--visually\" id=\"sk-estimator-id-5\" type=\"checkbox\" checked><label for=\"sk-estimator-id-5\" class=\"sk-toggleable__label sk-toggleable__label-arrow\">KNeighborsClassifier</label><div class=\"sk-toggleable__content\"><pre>KNeighborsClassifier()</pre></div></div></div></div></div>"
      ],
      "text/plain": [
       "KNeighborsClassifier()"
      ]
     },
     "execution_count": 180,
     "metadata": {},
     "output_type": "execute_result"
    }
   ],
   "source": [
    "knn_new=KNeighborsClassifier()\n",
    "\n",
    "knn_new.fit(X_train,y_train)"
   ]
  },
  {
   "cell_type": "code",
   "execution_count": 182,
   "id": "d8fac0ce",
   "metadata": {},
   "outputs": [
    {
     "data": {
      "text/plain": [
       "array([1], dtype=int64)"
      ]
     },
     "execution_count": 182,
     "metadata": {},
     "output_type": "execute_result"
    }
   ],
   "source": [
    "# see the prediction will happen like this . we need to provide the input \n",
    "# of the first feature and then the second feature\n",
    "knn_new.predict(np.array([3.3,1.0]).reshape(1,2))"
   ]
  },
  {
   "cell_type": "code",
   "execution_count": 197,
   "id": "7a50bfe7",
   "metadata": {},
   "outputs": [
    {
     "data": {
      "text/plain": [
       "array([[3.3 , 1.  ],\n",
       "       [3.31, 1.  ],\n",
       "       [3.32, 1.  ],\n",
       "       ...,\n",
       "       [8.67, 5.19],\n",
       "       [8.68, 5.19],\n",
       "       [8.69, 5.19]])"
      ]
     },
     "execution_count": 197,
     "metadata": {},
     "output_type": "execute_result"
    }
   ],
   "source": [
    "\"\"\" but we do not have or data in desired format , to do that we will\n",
    "first convert the xx and yy into 1-d and then we will make array out of it \n",
    "after all this we will transpose it to get the first col and second column as my input feature \n",
    "NOTE: PLEASE ALSO TAKE CARE OF THE SHAPE OF THE INPUT DATA IT SHOULD BE SANME AS THE COLUMN SHAPE OF THE TRAINING DATA\n",
    "\n",
    "\"\"\"\n",
    "np.array([xx.ravel(),yy.ravel()]).T"
   ]
  },
  {
   "cell_type": "code",
   "execution_count": 198,
   "id": "1824692b",
   "metadata": {},
   "outputs": [
    {
     "data": {
      "text/plain": [
       "(226800, 2)"
      ]
     },
     "execution_count": 198,
     "metadata": {},
     "output_type": "execute_result"
    }
   ],
   "source": [
    "np.array([xx.ravel(),yy.ravel()]).T.shape ## see we have 2 column "
   ]
  },
  {
   "cell_type": "code",
   "execution_count": 199,
   "id": "3148666c",
   "metadata": {},
   "outputs": [],
   "source": [
    "input_array=np.array([xx.ravel(),yy.ravel()]).T"
   ]
  },
  {
   "cell_type": "code",
   "execution_count": 203,
   "id": "c06d1c09",
   "metadata": {},
   "outputs": [],
   "source": [
    "label=knn_new.predict(input_array)"
   ]
  },
  {
   "cell_type": "code",
   "execution_count": 204,
   "id": "8e0f0e1f",
   "metadata": {},
   "outputs": [
    {
     "data": {
      "text/plain": [
       "array([1, 1, 1, ..., 2, 2, 2], dtype=int64)"
      ]
     },
     "execution_count": 204,
     "metadata": {},
     "output_type": "execute_result"
    }
   ],
   "source": [
    "label"
   ]
  },
  {
   "cell_type": "markdown",
   "id": "bcba2b6b",
   "metadata": {},
   "source": [
    "### plotting the array image"
   ]
  },
  {
   "cell_type": "code",
   "execution_count": 205,
   "id": "8ee65433",
   "metadata": {},
   "outputs": [
    {
     "data": {
      "text/plain": [
       "<matplotlib.contour.QuadContourSet at 0x2ac5097e340>"
      ]
     },
     "execution_count": 205,
     "metadata": {},
     "output_type": "execute_result"
    },
    {
     "data": {
      "image/png": "[encoded data removed]",
      "text/plain": [
       "<Figure size 432x288 with 1 Axes>"
      ]
     },
     "metadata": {
      "needs_background": "light"
     },
     "output_type": "display_data"
    }
   ],
   "source": [
    "plt.contourf(xx,yy,label.reshape(xx.shape))\n",
    "# shape of xx,yy,labels should be same"
   ]
  },
  {
   "cell_type": "code",
   "execution_count": 211,
   "id": "4033cb79",
   "metadata": {},
   "outputs": [
    {
     "data": {
      "text/plain": [
       "<matplotlib.collections.PathCollection at 0x2ac5095fbe0>"
      ]
     },
     "execution_count": 211,
     "metadata": {},
     "output_type": "execute_result"
    },
    {
     "data": {
      "image/png": "[encoded data removed]",
      "text/plain": [
       "<Figure size 432x288 with 1 Axes>"
      ]
     },
     "metadata": {
      "needs_background": "light"
     },
     "output_type": "display_data"
    }
   ],
   "source": [
    "plt.contourf(xx,yy,label.reshape(xx.shape),alpha=0.5)\n",
    "plt.scatter(X_train[:,0],X_train[:,1],c=y_train,alpha=0.8)"
   ]
  },
  {
   "cell_type": "code",
   "execution_count": null,
   "id": "625b7729",
   "metadata": {},
   "outputs": [],
   "source": []
  }
 ],
 "metadata": {
  "kernelspec": {
   "display_name": "Python 3",
   "language": "python",
   "name": "python3"
  },
  "language_info": {
   "codemirror_mode": {
    "name": "ipython",
    "version": 3
   },
   "file_extension": ".py",
   "mimetype": "text/x-python",
   "name": "python",
   "nbconvert_exporter": "python",
   "pygments_lexer": "ipython3",
   "version": "3.8.8"
  }
 },
 "nbformat": 4,
 "nbformat_minor": 5
}
